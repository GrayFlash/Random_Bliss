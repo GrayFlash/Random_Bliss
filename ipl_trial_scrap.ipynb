{
 "cells": [
  {
   "cell_type": "code",
   "execution_count": 2,
   "metadata": {},
   "outputs": [],
   "source": [
    "from bs4 import BeautifulSoup\n",
    "from urllib.request import urlopen\n",
    "from tabulate import tabulate\n",
    "import numpy as np\n",
    "import pandas as pd\n",
    "import matplotlib.pyplot as plt\n",
    "%matplotlib inline"
   ]
  },
  {
   "cell_type": "code",
   "execution_count": 3,
   "metadata": {},
   "outputs": [],
   "source": [
    "def response_await(url):\n",
    "    response = urlopen(url)\n",
    "    data = response.read()\n",
    "    soup = BeautifulSoup(data, 'lxml')\n",
    "    return soup"
   ]
  },
  {
   "cell_type": "code",
   "execution_count": 35,
   "metadata": {},
   "outputs": [],
   "source": [
    "arr = ['2008', '2009', '2010', '2011', '2012', '2013', '2014', '2015', '2016', '2017', '2018', '2019']\n",
    "\n",
    "url_team = 'https://www.iplt20.com/stats/'\n",
    "\n",
    "for i in range(1):\n",
    "    try:\n",
    "        temp_url = url_team + arr[i]\n",
    "        soup = response_await(temp_url)\n",
    "        teams = soup.find_all('td',{'class':'standings-table__team standings-table__freeze'})\n",
    "        count = 1\n",
    "        team_details = []\n",
    "        #print(teams)\n",
    "        for i in range(len(teams)):\n",
    "            #try:\n",
    "            name = teams[j].find('span',{'class':'standings-table__team-name js-team'}).text\n",
    "            short_name = teams[j].find('span',{'class':'standings-table__team-name standings-table__team-name--short js-team'}).text        \n",
    "            team_url = teams[j].find('a').get('href')\n",
    "                \n",
    "                #print(name) \n",
    "            print(name, short_name, team_url)\n",
    "            team_details.append([count, name, short_name, team_url])\n",
    "            count += 1\n",
    "            #except:\n",
    "             #   pass\n",
    "        #print(team_details)\n",
    "        print(\"\\n\\n\")\n",
    "        #print(team_details[0])\n",
    "        for i in range(0, count):\n",
    "            print(team_details[i], count)\n",
    "            #print(tabulate(team_details[i], headers=[\"Index\", \"Name\", \"ShortName\", \"Link\"], tablefmt=\"grid\"))\n",
    "    except:\n",
    "        pass"
   ]
  },
  {
   "cell_type": "code",
   "execution_count": null,
   "metadata": {},
   "outputs": [],
   "source": []
  },
  {
   "cell_type": "code",
   "execution_count": null,
   "metadata": {},
   "outputs": [],
   "source": []
  }
 ],
 "metadata": {
  "kernelspec": {
   "display_name": "Python 3",
   "language": "python",
   "name": "python3"
  },
  "language_info": {
   "codemirror_mode": {
    "name": "ipython",
    "version": 3
   },
   "file_extension": ".py",
   "mimetype": "text/x-python",
   "name": "python",
   "nbconvert_exporter": "python",
   "pygments_lexer": "ipython3",
   "version": "3.7.6"
  }
 },
 "nbformat": 4,
 "nbformat_minor": 4
}
