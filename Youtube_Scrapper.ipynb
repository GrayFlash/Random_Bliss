{
 "cells": [
  {
   "cell_type": "code",
   "execution_count": 1,
   "metadata": {},
   "outputs": [],
   "source": [
    "from bs4 import BeautifulSoup\n",
    "import requests\n",
    "import pandas as pd\n",
    "import numpy as np"
   ]
  },
  {
   "cell_type": "code",
   "execution_count": 2,
   "metadata": {},
   "outputs": [],
   "source": [
    "def make_soup(url):\n",
    "    return BeautifulSoup(requests.get(url).text, 'html.parser')"
   ]
  },
  {
   "cell_type": "code",
   "execution_count": 3,
   "metadata": {},
   "outputs": [],
   "source": [
    "def get_id(url):\n",
    "    video_soup = make_soup(url)\n",
    "    \n",
    "    related = []\n",
    "    \n",
    "    cards = video_soup.find_all('ytd-compact-autoplay-renderer',{'class':'style-scope ytd-watch-next-secondary-results-renderer'})\n",
    "    \n",
    "    print(cards)"
   ]
  },
  {
   "cell_type": "code",
   "execution_count": 5,
   "metadata": {},
   "outputs": [],
   "source": [
    "yt = \"https://www.youtube.com/\"\n",
    "ch1 = \"https://www.youtube.com/playlist?list=PLhBgTdAWkxeB-zCekGukAo0DzmpwBiua2\"\n",
    "video1 = \"https://www.youtube.com/watch?v=GjceEf_GCrE&ab_channel=AmazonPrimeVideoIndia\""
   ]
  },
  {
   "cell_type": "code",
   "execution_count": 42,
   "metadata": {},
   "outputs": [],
   "source": [
    "def getHomeInfo(home_url):\n",
    "    home_soup = make_soup(home_url)\n",
    "    videoList = []\n",
    "    #print(home_soup)\n",
    "    \n",
    "    video_card = home_soup.find_all('div')\n",
    "    print(video_card)\n",
    "    #videos_card = home_soup.find_all('div', {'id':'content', 'class':'style-scope ytd-rich-item-renderer'})\n",
    "#     videos_card = home_soup.find_all('ytd-rich-grid-media', {'class':'style-scope ytd-rich-grid-media'})\n",
    "#     count = 0\n",
    "#     print(videos_card)\n",
    "#     for video in videos_card:\n",
    "#         if count>10:\n",
    "#             break\n",
    "#         try:\n",
    "#             video_link = video.find('a', {'id':'thumbnail', 'class':'yt-simple-endpoint inline-block style-scope ytd-thumbnail'}).get('href')\n",
    "#             img_src = video.find('img', {'id':'img', 'class':'style-scope yt-img-shadow'}).get('src')\n",
    "#             count += 1\n",
    "            \n",
    "#             videoList.append([video_link, img_src])\n",
    "            \n",
    "#         except:\n",
    "#             pass\n",
    "    \n",
    "    return videoList\n",
    "            \n",
    "            "
   ]
  },
  {
   "cell_type": "code",
   "execution_count": 6,
   "metadata": {},
   "outputs": [
    {
     "name": "stdout",
     "output_type": "stream",
     "text": [
      "[]\n"
     ]
    }
   ],
   "source": [
    "def main():\n",
    "#     videos = getHomeInfo(ch1)\n",
    "#     print(videos)\n",
    "    #df = pd.DataFrame(np.array(videos), columns=['Link', 'Image'])\n",
    "    #print(df.to_string(index=False))\n",
    "    cards = get_id(video1)\n",
    "    \n",
    "if __name__ == '__main__':\n",
    "    main()"
   ]
  },
  {
   "cell_type": "code",
   "execution_count": 8,
   "metadata": {},
   "outputs": [
    {
     "name": "stdout",
     "output_type": "stream",
     "text": [
      "Collecting requests_html\n",
      "  Downloading https://files.pythonhosted.org/packages/24/bc/a4380f09bab3a776182578ce6b2771e57259d0d4dbce178205779abdc347/requests_html-0.10.0-py3-none-any.whl\n",
      "Requirement already satisfied: requests in c:\\programdata\\anaconda3\\lib\\site-packages (from requests_html) (2.22.0)\n",
      "Collecting pyquery (from requests_html)\n",
      "  Downloading https://files.pythonhosted.org/packages/78/43/95d42e386c61cb639d1a0b94f0c0b9f0b7d6b981ad3c043a836c8b5bc68b/pyquery-1.4.1-py2.py3-none-any.whl\n",
      "Collecting bs4 (from requests_html)\n",
      "  Downloading https://files.pythonhosted.org/packages/10/ed/7e8b97591f6f456174139ec089c769f89a94a1a4025fe967691de971f314/bs4-0.0.1.tar.gz\n",
      "Collecting w3lib (from requests_html)\n",
      "  Downloading https://files.pythonhosted.org/packages/a3/59/b6b14521090e7f42669cafdb84b0ab89301a42f1f1a82fcf5856661ea3a7/w3lib-1.22.0-py2.py3-none-any.whl\n",
      "Collecting pyppeteer>=0.0.14 (from requests_html)\n",
      "  Downloading https://files.pythonhosted.org/packages/5d/4b/3c2aabdd1b91fa52aa9de6cde33b488b0592b4d48efb0ad9efbf71c49f5b/pyppeteer-0.2.2-py3-none-any.whl (145kB)\n",
      "Collecting fake-useragent (from requests_html)\n",
      "  Downloading https://files.pythonhosted.org/packages/d1/79/af647635d6968e2deb57a208d309f6069d31cb138066d7e821e575112a80/fake-useragent-0.1.11.tar.gz\n",
      "Collecting parse (from requests_html)\n",
      "  Downloading https://files.pythonhosted.org/packages/b8/49/85f19d9ff908817b864deebf7f68211f9a6fc0b48746d372d970f60d01f5/parse-1.18.0.tar.gz\n",
      "Requirement already satisfied: certifi>=2017.4.17 in c:\\programdata\\anaconda3\\lib\\site-packages (from requests->requests_html) (2019.9.11)\n",
      "Requirement already satisfied: idna<2.9,>=2.5 in c:\\programdata\\anaconda3\\lib\\site-packages (from requests->requests_html) (2.8)\n",
      "Requirement already satisfied: urllib3!=1.25.0,!=1.25.1,<1.26,>=1.21.1 in c:\\programdata\\anaconda3\\lib\\site-packages (from requests->requests_html) (1.24.2)\n",
      "Requirement already satisfied: chardet<3.1.0,>=3.0.2 in c:\\programdata\\anaconda3\\lib\\site-packages (from requests->requests_html) (3.0.4)\n",
      "Requirement already satisfied: lxml>=2.1 in c:\\programdata\\anaconda3\\lib\\site-packages (from pyquery->requests_html) (4.4.1)\n",
      "Collecting cssselect>0.7.9 (from pyquery->requests_html)\n",
      "  Downloading https://files.pythonhosted.org/packages/3b/d4/3b5c17f00cce85b9a1e6f91096e1cc8e8ede2e1be8e96b87ce1ed09e92c5/cssselect-1.1.0-py2.py3-none-any.whl\n",
      "Requirement already satisfied: beautifulsoup4 in c:\\programdata\\anaconda3\\lib\\site-packages (from bs4->requests_html) (4.8.0)\n",
      "Requirement already satisfied: six>=1.4.1 in c:\\programdata\\anaconda3\\lib\\site-packages (from w3lib->requests_html) (1.12.0)\n",
      "Collecting pyee<8.0.0,>=7.0.1 (from pyppeteer>=0.0.14->requests_html)\n",
      "  Downloading https://files.pythonhosted.org/packages/64/f3/90db6276dbc6cb1defa558251acc73c8e436ca8e1e2b38ec75786278de7c/pyee-7.0.4-py2.py3-none-any.whl\n",
      "Collecting appdirs<2.0.0,>=1.4.3 (from pyppeteer>=0.0.14->requests_html)\n",
      "  Downloading https://files.pythonhosted.org/packages/3b/00/2344469e2084fb287c2e0b57b72910309874c3245463acd6cf5e3db69324/appdirs-1.4.4-py2.py3-none-any.whl\n",
      "Collecting tqdm<5.0.0,>=4.42.1 (from pyppeteer>=0.0.14->requests_html)\n",
      "  Downloading https://files.pythonhosted.org/packages/93/3a/96b3dc293aa72443cf9627444c3c221a7ba34bb622e4d8bf1b5d4f2d9d08/tqdm-4.51.0-py2.py3-none-any.whl (70kB)\n",
      "Collecting websockets<9.0,>=8.1 (from pyppeteer>=0.0.14->requests_html)\n",
      "  Downloading https://files.pythonhosted.org/packages/56/01/1f61610f1eb7f9a8e8fdc607a89dd2fae778e6e43290d7e153ebe724adb5/websockets-8.1-cp37-cp37m-win_amd64.whl (66kB)\n",
      "Requirement already satisfied: soupsieve>=1.2 in c:\\programdata\\anaconda3\\lib\\site-packages (from beautifulsoup4->bs4->requests_html) (1.9.3)\n",
      "Building wheels for collected packages: bs4, fake-useragent, parse\n",
      "  Building wheel for bs4 (setup.py): started\n",
      "  Building wheel for bs4 (setup.py): finished with status 'done'\n",
      "  Created wheel for bs4: filename=bs4-0.0.1-cp37-none-any.whl size=1278 sha256=0ca249c8a24b77360f4b600c206ff2e2768366f57dc4162a959c6d24bf56e82d\n",
      "  Stored in directory: C:\\Users\\Gray\\AppData\\Local\\pip\\Cache\\wheels\\a0\\b0\\b2\\4f80b9456b87abedbc0bf2d52235414c3467d8889be38dd472\n",
      "  Building wheel for fake-useragent (setup.py): started\n",
      "  Building wheel for fake-useragent (setup.py): finished with status 'done'\n",
      "  Created wheel for fake-useragent: filename=fake_useragent-0.1.11-cp37-none-any.whl size=13490 sha256=72ac606ae269f5b430d3d13f49990d22ea44a2c691728ee8f8a02cc9c4244332\n",
      "  Stored in directory: C:\\Users\\Gray\\AppData\\Local\\pip\\Cache\\wheels\\5e\\63\\09\\d1dc15179f175357d3f5c00cbffbac37f9e8690d80545143ff\n",
      "  Building wheel for parse (setup.py): started\n",
      "  Building wheel for parse (setup.py): finished with status 'done'\n",
      "  Created wheel for parse: filename=parse-1.18.0-cp37-none-any.whl size=24137 sha256=4c82b1b49b845229d8ebde2e459bf1f002e4883e807b9a57fd7ef76c7e23311c\n",
      "  Stored in directory: C:\\Users\\Gray\\AppData\\Local\\pip\\Cache\\wheels\\2a\\53\\09\\869ca5781ede342254ffac09ca99461b008c3e5f8dd079b0c0\n",
      "Successfully built bs4 fake-useragent parse\n",
      "Installing collected packages: cssselect, pyquery, bs4, w3lib, pyee, appdirs, tqdm, websockets, pyppeteer, fake-useragent, parse, requests-html\n",
      "  Found existing installation: tqdm 4.36.1\n",
      "    Uninstalling tqdm-4.36.1:\n",
      "Note: you may need to restart the kernel to use updated packages.\n"
     ]
    },
    {
     "name": "stderr",
     "output_type": "stream",
     "text": [
      "ERROR: pyppeteer 0.2.2 has requirement urllib3<2.0.0,>=1.25.8, but you'll have urllib3 1.24.2 which is incompatible.\n",
      "ERROR: Could not install packages due to an EnvironmentError: [WinError 5] Access is denied: 'c:\\\\programdata\\\\anaconda3\\\\lib\\\\site-packages\\\\tqdm-4.36.1.dist-info\\\\entry_points.txt'\n",
      "Consider using the `--user` option or check the permissions.\n",
      "\n"
     ]
    }
   ],
   "source": [
    "pip install requests_html"
   ]
  },
  {
   "cell_type": "code",
   "execution_count": null,
   "metadata": {},
   "outputs": [],
   "source": []
  }
 ],
 "metadata": {
  "kernelspec": {
   "display_name": "Python 3",
   "language": "python",
   "name": "python3"
  },
  "language_info": {
   "codemirror_mode": {
    "name": "ipython",
    "version": 3
   },
   "file_extension": ".py",
   "mimetype": "text/x-python",
   "name": "python",
   "nbconvert_exporter": "python",
   "pygments_lexer": "ipython3",
   "version": "3.7.4"
  }
 },
 "nbformat": 4,
 "nbformat_minor": 2
}
